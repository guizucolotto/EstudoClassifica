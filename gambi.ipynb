{
 "cells": [
  {
   "cell_type": "markdown",
   "metadata": {},
   "source": [
    "# Estudo sobre Modelo de Classificação"
   ]
  },
  {
   "cell_type": "markdown",
   "metadata": {},
   "source": [
    "## Importações"
   ]
  },
  {
   "cell_type": "code",
   "execution_count": 1,
   "metadata": {},
   "outputs": [],
   "source": [
    "import pandas as pd\n",
    "import numpy as np"
   ]
  },
  {
   "cell_type": "code",
   "execution_count": 3,
   "metadata": {},
   "outputs": [],
   "source": [
    "#import plotly.express as px\n",
    "import seaborn as sns\n",
    "from matplotlib.legend_handler import HandlerLine2D\n",
    "import matplotlib.pyplot as plt"
   ]
  },
  {
   "cell_type": "code",
   "execution_count": 4,
   "metadata": {},
   "outputs": [],
   "source": [
    "#from feature_engine.imputation import CategoricalImputer"
   ]
  },
  {
   "cell_type": "code",
   "execution_count": 6,
   "metadata": {},
   "outputs": [],
   "source": [
    "#from imblearn.over_sampling import RandomOverSampler"
   ]
  },
  {
   "cell_type": "code",
   "execution_count": 7,
   "metadata": {},
   "outputs": [],
   "source": [
    "from sklearn.model_selection import KFold\n",
    "from sklearn.model_selection import cross_validate\n",
    "from sklearn.model_selection import train_test_split, cross_val_score, GridSearchCV\n",
    "from sklearn.compose import ColumnTransformer\n",
    "from sklearn.pipeline import Pipeline\n",
    "from sklearn.preprocessing import StandardScaler, OneHotEncoder\n",
    "from sklearn.impute import SimpleImputer\n",
    "from sklearn import preprocessing\n",
    "from sklearn import metrics"
   ]
  },
  {
   "cell_type": "code",
   "execution_count": 8,
   "metadata": {},
   "outputs": [],
   "source": [
    "from sklearn.metrics import accuracy_score, precision_recall_curve,precision_score, plot_roc_curve"
   ]
  },
  {
   "cell_type": "code",
   "execution_count": 9,
   "metadata": {},
   "outputs": [],
   "source": [
    "from sklearn.linear_model import LogisticRegression\n",
    "from sklearn.ensemble import RandomForestClassifier, GradientBoostingClassifier"
   ]
  },
  {
   "cell_type": "code",
   "execution_count": 10,
   "metadata": {},
   "outputs": [],
   "source": [
    "df_treino = pd.read_csv(\"marketing_training.csv\")"
   ]
  },
  {
   "cell_type": "code",
   "execution_count": 11,
   "metadata": {},
   "outputs": [
    {
     "name": "stdout",
     "output_type": "stream",
     "text": [
      "<class 'pandas.core.frame.DataFrame'>\n",
      "RangeIndex: 7414 entries, 0 to 7413\n",
      "Data columns (total 22 columns):\n",
      " #   Column          Non-Null Count  Dtype  \n",
      "---  ------          --------------  -----  \n",
      " 0   custAge         5610 non-null   float64\n",
      " 1   profession      7414 non-null   object \n",
      " 2   marital         7414 non-null   object \n",
      " 3   schooling       5259 non-null   object \n",
      " 4   default         7414 non-null   object \n",
      " 5   housing         7414 non-null   object \n",
      " 6   loan            7414 non-null   object \n",
      " 7   contact         7414 non-null   object \n",
      " 8   month           7414 non-null   object \n",
      " 9   day_of_week     6703 non-null   object \n",
      " 10  campaign        7414 non-null   int64  \n",
      " 11  pdays           7414 non-null   int64  \n",
      " 12  previous        7414 non-null   int64  \n",
      " 13  poutcome        7414 non-null   object \n",
      " 14  emp.var.rate    7414 non-null   float64\n",
      " 15  cons.price.idx  7414 non-null   float64\n",
      " 16  cons.conf.idx   7414 non-null   float64\n",
      " 17  euribor3m       7414 non-null   float64\n",
      " 18  nr.employed     7414 non-null   float64\n",
      " 19  pmonths         7414 non-null   float64\n",
      " 20  pastEmail       7414 non-null   int64  \n",
      " 21  responded       7414 non-null   object \n",
      "dtypes: float64(7), int64(4), object(11)\n",
      "memory usage: 1.2+ MB\n"
     ]
    }
   ],
   "source": [
    "df_treino.info()"
   ]
  },
  {
   "cell_type": "markdown",
   "metadata": {},
   "source": [
    "## Exploração Dataset"
   ]
  },
  {
   "cell_type": "code",
   "execution_count": 12,
   "metadata": {},
   "outputs": [
    {
     "data": {
      "text/html": [
       "<div>\n",
       "<style scoped>\n",
       "    .dataframe tbody tr th:only-of-type {\n",
       "        vertical-align: middle;\n",
       "    }\n",
       "\n",
       "    .dataframe tbody tr th {\n",
       "        vertical-align: top;\n",
       "    }\n",
       "\n",
       "    .dataframe thead th {\n",
       "        text-align: right;\n",
       "    }\n",
       "</style>\n",
       "<table border=\"1\" class=\"dataframe\">\n",
       "  <thead>\n",
       "    <tr style=\"text-align: right;\">\n",
       "      <th></th>\n",
       "      <th>custAge</th>\n",
       "      <th>campaign</th>\n",
       "      <th>pdays</th>\n",
       "      <th>previous</th>\n",
       "      <th>emp.var.rate</th>\n",
       "      <th>cons.price.idx</th>\n",
       "      <th>cons.conf.idx</th>\n",
       "      <th>euribor3m</th>\n",
       "      <th>nr.employed</th>\n",
       "      <th>pmonths</th>\n",
       "      <th>pastEmail</th>\n",
       "    </tr>\n",
       "  </thead>\n",
       "  <tbody>\n",
       "    <tr>\n",
       "      <th>count</th>\n",
       "      <td>5610.000000</td>\n",
       "      <td>7414.000000</td>\n",
       "      <td>7414.000000</td>\n",
       "      <td>7414.000000</td>\n",
       "      <td>7414.000000</td>\n",
       "      <td>7414.000000</td>\n",
       "      <td>7414.000000</td>\n",
       "      <td>7414.000000</td>\n",
       "      <td>7414.000000</td>\n",
       "      <td>7414.000000</td>\n",
       "      <td>7414.000000</td>\n",
       "    </tr>\n",
       "    <tr>\n",
       "      <th>mean</th>\n",
       "      <td>40.009804</td>\n",
       "      <td>2.518344</td>\n",
       "      <td>960.024548</td>\n",
       "      <td>0.184111</td>\n",
       "      <td>0.052091</td>\n",
       "      <td>93.570708</td>\n",
       "      <td>-40.561316</td>\n",
       "      <td>3.583141</td>\n",
       "      <td>5165.224251</td>\n",
       "      <td>959.797028</td>\n",
       "      <td>0.361883</td>\n",
       "    </tr>\n",
       "    <tr>\n",
       "      <th>std</th>\n",
       "      <td>10.574616</td>\n",
       "      <td>2.695055</td>\n",
       "      <td>192.845029</td>\n",
       "      <td>0.516775</td>\n",
       "      <td>1.568399</td>\n",
       "      <td>0.578345</td>\n",
       "      <td>4.649800</td>\n",
       "      <td>1.744865</td>\n",
       "      <td>73.108669</td>\n",
       "      <td>193.969418</td>\n",
       "      <td>1.261668</td>\n",
       "    </tr>\n",
       "    <tr>\n",
       "      <th>min</th>\n",
       "      <td>18.000000</td>\n",
       "      <td>1.000000</td>\n",
       "      <td>0.000000</td>\n",
       "      <td>0.000000</td>\n",
       "      <td>-3.400000</td>\n",
       "      <td>92.201000</td>\n",
       "      <td>-50.800000</td>\n",
       "      <td>0.634000</td>\n",
       "      <td>4963.600000</td>\n",
       "      <td>0.000000</td>\n",
       "      <td>0.000000</td>\n",
       "    </tr>\n",
       "    <tr>\n",
       "      <th>25%</th>\n",
       "      <td>32.000000</td>\n",
       "      <td>1.000000</td>\n",
       "      <td>999.000000</td>\n",
       "      <td>0.000000</td>\n",
       "      <td>-1.800000</td>\n",
       "      <td>93.075000</td>\n",
       "      <td>-42.700000</td>\n",
       "      <td>1.334000</td>\n",
       "      <td>5099.100000</td>\n",
       "      <td>999.000000</td>\n",
       "      <td>0.000000</td>\n",
       "    </tr>\n",
       "    <tr>\n",
       "      <th>50%</th>\n",
       "      <td>38.000000</td>\n",
       "      <td>2.000000</td>\n",
       "      <td>999.000000</td>\n",
       "      <td>0.000000</td>\n",
       "      <td>1.100000</td>\n",
       "      <td>93.444000</td>\n",
       "      <td>-41.800000</td>\n",
       "      <td>4.857000</td>\n",
       "      <td>5191.000000</td>\n",
       "      <td>999.000000</td>\n",
       "      <td>0.000000</td>\n",
       "    </tr>\n",
       "    <tr>\n",
       "      <th>75%</th>\n",
       "      <td>47.000000</td>\n",
       "      <td>3.000000</td>\n",
       "      <td>999.000000</td>\n",
       "      <td>0.000000</td>\n",
       "      <td>1.400000</td>\n",
       "      <td>93.994000</td>\n",
       "      <td>-36.400000</td>\n",
       "      <td>4.961000</td>\n",
       "      <td>5228.100000</td>\n",
       "      <td>999.000000</td>\n",
       "      <td>0.000000</td>\n",
       "    </tr>\n",
       "    <tr>\n",
       "      <th>max</th>\n",
       "      <td>94.000000</td>\n",
       "      <td>40.000000</td>\n",
       "      <td>999.000000</td>\n",
       "      <td>6.000000</td>\n",
       "      <td>1.400000</td>\n",
       "      <td>94.767000</td>\n",
       "      <td>-26.900000</td>\n",
       "      <td>5.045000</td>\n",
       "      <td>5228.100000</td>\n",
       "      <td>999.000000</td>\n",
       "      <td>18.000000</td>\n",
       "    </tr>\n",
       "  </tbody>\n",
       "</table>\n",
       "</div>"
      ],
      "text/plain": [
       "           custAge     campaign        pdays     previous  emp.var.rate  \\\n",
       "count  5610.000000  7414.000000  7414.000000  7414.000000   7414.000000   \n",
       "mean     40.009804     2.518344   960.024548     0.184111      0.052091   \n",
       "std      10.574616     2.695055   192.845029     0.516775      1.568399   \n",
       "min      18.000000     1.000000     0.000000     0.000000     -3.400000   \n",
       "25%      32.000000     1.000000   999.000000     0.000000     -1.800000   \n",
       "50%      38.000000     2.000000   999.000000     0.000000      1.100000   \n",
       "75%      47.000000     3.000000   999.000000     0.000000      1.400000   \n",
       "max      94.000000    40.000000   999.000000     6.000000      1.400000   \n",
       "\n",
       "       cons.price.idx  cons.conf.idx    euribor3m  nr.employed      pmonths  \\\n",
       "count     7414.000000    7414.000000  7414.000000  7414.000000  7414.000000   \n",
       "mean        93.570708     -40.561316     3.583141  5165.224251   959.797028   \n",
       "std          0.578345       4.649800     1.744865    73.108669   193.969418   \n",
       "min         92.201000     -50.800000     0.634000  4963.600000     0.000000   \n",
       "25%         93.075000     -42.700000     1.334000  5099.100000   999.000000   \n",
       "50%         93.444000     -41.800000     4.857000  5191.000000   999.000000   \n",
       "75%         93.994000     -36.400000     4.961000  5228.100000   999.000000   \n",
       "max         94.767000     -26.900000     5.045000  5228.100000   999.000000   \n",
       "\n",
       "         pastEmail  \n",
       "count  7414.000000  \n",
       "mean      0.361883  \n",
       "std       1.261668  \n",
       "min       0.000000  \n",
       "25%       0.000000  \n",
       "50%       0.000000  \n",
       "75%       0.000000  \n",
       "max      18.000000  "
      ]
     },
     "execution_count": 12,
     "metadata": {},
     "output_type": "execute_result"
    }
   ],
   "source": [
    "df_treino.describe()"
   ]
  },
  {
   "cell_type": "code",
   "execution_count": 13,
   "metadata": {},
   "outputs": [
    {
     "data": {
      "text/plain": [
       "no     6574\n",
       "yes     840\n",
       "Name: responded, dtype: int64"
      ]
     },
     "execution_count": 13,
     "metadata": {},
     "output_type": "execute_result"
    }
   ],
   "source": [
    "df_treino.responded.value_counts()"
   ]
  },
  {
   "cell_type": "markdown",
   "metadata": {},
   "source": [
    "O dataset não está desbalanceado em relação a variável a ser classificada, um ponto de atenção para utilização de algum método de sample (over|under) no momento da modelagem"
   ]
  },
  {
   "cell_type": "code",
   "execution_count": 14,
   "metadata": {},
   "outputs": [
    {
     "data": {
      "text/html": [
       "<div>\n",
       "<style scoped>\n",
       "    .dataframe tbody tr th:only-of-type {\n",
       "        vertical-align: middle;\n",
       "    }\n",
       "\n",
       "    .dataframe tbody tr th {\n",
       "        vertical-align: top;\n",
       "    }\n",
       "\n",
       "    .dataframe thead th {\n",
       "        text-align: right;\n",
       "    }\n",
       "</style>\n",
       "<table border=\"1\" class=\"dataframe\">\n",
       "  <thead>\n",
       "    <tr style=\"text-align: right;\">\n",
       "      <th></th>\n",
       "      <th>custAge</th>\n",
       "      <th>profession</th>\n",
       "      <th>marital</th>\n",
       "      <th>schooling</th>\n",
       "      <th>default</th>\n",
       "      <th>housing</th>\n",
       "      <th>loan</th>\n",
       "      <th>contact</th>\n",
       "      <th>month</th>\n",
       "      <th>day_of_week</th>\n",
       "      <th>...</th>\n",
       "      <th>previous</th>\n",
       "      <th>poutcome</th>\n",
       "      <th>emp.var.rate</th>\n",
       "      <th>cons.price.idx</th>\n",
       "      <th>cons.conf.idx</th>\n",
       "      <th>euribor3m</th>\n",
       "      <th>nr.employed</th>\n",
       "      <th>pmonths</th>\n",
       "      <th>pastEmail</th>\n",
       "      <th>responded</th>\n",
       "    </tr>\n",
       "  </thead>\n",
       "  <tbody>\n",
       "    <tr>\n",
       "      <th>0</th>\n",
       "      <td>55.0</td>\n",
       "      <td>admin.</td>\n",
       "      <td>single</td>\n",
       "      <td>university.degree</td>\n",
       "      <td>unknown</td>\n",
       "      <td>no</td>\n",
       "      <td>no</td>\n",
       "      <td>cellular</td>\n",
       "      <td>nov</td>\n",
       "      <td>mon</td>\n",
       "      <td>...</td>\n",
       "      <td>0</td>\n",
       "      <td>nonexistent</td>\n",
       "      <td>-0.1</td>\n",
       "      <td>93.200</td>\n",
       "      <td>-42.0</td>\n",
       "      <td>4.191</td>\n",
       "      <td>5195.8</td>\n",
       "      <td>999.0</td>\n",
       "      <td>0</td>\n",
       "      <td>no</td>\n",
       "    </tr>\n",
       "    <tr>\n",
       "      <th>1</th>\n",
       "      <td>NaN</td>\n",
       "      <td>blue-collar</td>\n",
       "      <td>married</td>\n",
       "      <td>NaN</td>\n",
       "      <td>no</td>\n",
       "      <td>no</td>\n",
       "      <td>no</td>\n",
       "      <td>cellular</td>\n",
       "      <td>jul</td>\n",
       "      <td>mon</td>\n",
       "      <td>...</td>\n",
       "      <td>0</td>\n",
       "      <td>nonexistent</td>\n",
       "      <td>1.4</td>\n",
       "      <td>93.918</td>\n",
       "      <td>-42.7</td>\n",
       "      <td>4.960</td>\n",
       "      <td>5228.1</td>\n",
       "      <td>999.0</td>\n",
       "      <td>0</td>\n",
       "      <td>no</td>\n",
       "    </tr>\n",
       "    <tr>\n",
       "      <th>2</th>\n",
       "      <td>42.0</td>\n",
       "      <td>technician</td>\n",
       "      <td>married</td>\n",
       "      <td>high.school</td>\n",
       "      <td>no</td>\n",
       "      <td>no</td>\n",
       "      <td>no</td>\n",
       "      <td>telephone</td>\n",
       "      <td>may</td>\n",
       "      <td>mon</td>\n",
       "      <td>...</td>\n",
       "      <td>0</td>\n",
       "      <td>nonexistent</td>\n",
       "      <td>1.1</td>\n",
       "      <td>93.994</td>\n",
       "      <td>-36.4</td>\n",
       "      <td>4.857</td>\n",
       "      <td>5191.0</td>\n",
       "      <td>999.0</td>\n",
       "      <td>0</td>\n",
       "      <td>no</td>\n",
       "    </tr>\n",
       "    <tr>\n",
       "      <th>3</th>\n",
       "      <td>55.0</td>\n",
       "      <td>management</td>\n",
       "      <td>divorced</td>\n",
       "      <td>NaN</td>\n",
       "      <td>unknown</td>\n",
       "      <td>yes</td>\n",
       "      <td>yes</td>\n",
       "      <td>cellular</td>\n",
       "      <td>jul</td>\n",
       "      <td>wed</td>\n",
       "      <td>...</td>\n",
       "      <td>0</td>\n",
       "      <td>nonexistent</td>\n",
       "      <td>1.4</td>\n",
       "      <td>93.918</td>\n",
       "      <td>-42.7</td>\n",
       "      <td>4.962</td>\n",
       "      <td>5228.1</td>\n",
       "      <td>999.0</td>\n",
       "      <td>0</td>\n",
       "      <td>no</td>\n",
       "    </tr>\n",
       "    <tr>\n",
       "      <th>4</th>\n",
       "      <td>NaN</td>\n",
       "      <td>admin.</td>\n",
       "      <td>divorced</td>\n",
       "      <td>university.degree</td>\n",
       "      <td>no</td>\n",
       "      <td>yes</td>\n",
       "      <td>no</td>\n",
       "      <td>cellular</td>\n",
       "      <td>may</td>\n",
       "      <td>tue</td>\n",
       "      <td>...</td>\n",
       "      <td>1</td>\n",
       "      <td>failure</td>\n",
       "      <td>-1.8</td>\n",
       "      <td>92.893</td>\n",
       "      <td>-46.2</td>\n",
       "      <td>1.291</td>\n",
       "      <td>5099.1</td>\n",
       "      <td>999.0</td>\n",
       "      <td>1</td>\n",
       "      <td>no</td>\n",
       "    </tr>\n",
       "  </tbody>\n",
       "</table>\n",
       "<p>5 rows × 22 columns</p>\n",
       "</div>"
      ],
      "text/plain": [
       "   custAge   profession   marital          schooling  default housing loan  \\\n",
       "0     55.0       admin.    single  university.degree  unknown      no   no   \n",
       "1      NaN  blue-collar   married                NaN       no      no   no   \n",
       "2     42.0   technician   married        high.school       no      no   no   \n",
       "3     55.0   management  divorced                NaN  unknown     yes  yes   \n",
       "4      NaN       admin.  divorced  university.degree       no     yes   no   \n",
       "\n",
       "     contact month day_of_week  ...  previous     poutcome  emp.var.rate  \\\n",
       "0   cellular   nov         mon  ...         0  nonexistent          -0.1   \n",
       "1   cellular   jul         mon  ...         0  nonexistent           1.4   \n",
       "2  telephone   may         mon  ...         0  nonexistent           1.1   \n",
       "3   cellular   jul         wed  ...         0  nonexistent           1.4   \n",
       "4   cellular   may         tue  ...         1      failure          -1.8   \n",
       "\n",
       "  cons.price.idx  cons.conf.idx  euribor3m  nr.employed  pmonths  pastEmail  \\\n",
       "0         93.200          -42.0      4.191       5195.8    999.0          0   \n",
       "1         93.918          -42.7      4.960       5228.1    999.0          0   \n",
       "2         93.994          -36.4      4.857       5191.0    999.0          0   \n",
       "3         93.918          -42.7      4.962       5228.1    999.0          0   \n",
       "4         92.893          -46.2      1.291       5099.1    999.0          1   \n",
       "\n",
       "   responded  \n",
       "0         no  \n",
       "1         no  \n",
       "2         no  \n",
       "3         no  \n",
       "4         no  \n",
       "\n",
       "[5 rows x 22 columns]"
      ]
     },
     "execution_count": 14,
     "metadata": {},
     "output_type": "execute_result"
    }
   ],
   "source": [
    "df_treino.head()"
   ]
  },
  {
   "cell_type": "markdown",
   "metadata": {},
   "source": [
    "<H4> Verificando as distribuições e correlações das variáveis presentes do dataset"
   ]
  },
  {
   "cell_type": "code",
   "execution_count": 15,
   "metadata": {},
   "outputs": [
    {
     "data": {
      "text/html": [
       "<div>\n",
       "<style scoped>\n",
       "    .dataframe tbody tr th:only-of-type {\n",
       "        vertical-align: middle;\n",
       "    }\n",
       "\n",
       "    .dataframe tbody tr th {\n",
       "        vertical-align: top;\n",
       "    }\n",
       "\n",
       "    .dataframe thead th {\n",
       "        text-align: right;\n",
       "    }\n",
       "</style>\n",
       "<table border=\"1\" class=\"dataframe\">\n",
       "  <thead>\n",
       "    <tr style=\"text-align: right;\">\n",
       "      <th></th>\n",
       "      <th>custAge</th>\n",
       "      <th>campaign</th>\n",
       "      <th>pdays</th>\n",
       "      <th>previous</th>\n",
       "      <th>emp.var.rate</th>\n",
       "      <th>cons.price.idx</th>\n",
       "      <th>cons.conf.idx</th>\n",
       "      <th>euribor3m</th>\n",
       "      <th>nr.employed</th>\n",
       "      <th>pmonths</th>\n",
       "      <th>pastEmail</th>\n",
       "    </tr>\n",
       "  </thead>\n",
       "  <tbody>\n",
       "    <tr>\n",
       "      <th>count</th>\n",
       "      <td>5610.000000</td>\n",
       "      <td>7414.000000</td>\n",
       "      <td>7414.000000</td>\n",
       "      <td>7414.000000</td>\n",
       "      <td>7414.000000</td>\n",
       "      <td>7414.000000</td>\n",
       "      <td>7414.000000</td>\n",
       "      <td>7414.000000</td>\n",
       "      <td>7414.000000</td>\n",
       "      <td>7414.000000</td>\n",
       "      <td>7414.000000</td>\n",
       "    </tr>\n",
       "    <tr>\n",
       "      <th>mean</th>\n",
       "      <td>40.009804</td>\n",
       "      <td>2.518344</td>\n",
       "      <td>960.024548</td>\n",
       "      <td>0.184111</td>\n",
       "      <td>0.052091</td>\n",
       "      <td>93.570708</td>\n",
       "      <td>-40.561316</td>\n",
       "      <td>3.583141</td>\n",
       "      <td>5165.224251</td>\n",
       "      <td>959.797028</td>\n",
       "      <td>0.361883</td>\n",
       "    </tr>\n",
       "    <tr>\n",
       "      <th>std</th>\n",
       "      <td>10.574616</td>\n",
       "      <td>2.695055</td>\n",
       "      <td>192.845029</td>\n",
       "      <td>0.516775</td>\n",
       "      <td>1.568399</td>\n",
       "      <td>0.578345</td>\n",
       "      <td>4.649800</td>\n",
       "      <td>1.744865</td>\n",
       "      <td>73.108669</td>\n",
       "      <td>193.969418</td>\n",
       "      <td>1.261668</td>\n",
       "    </tr>\n",
       "    <tr>\n",
       "      <th>min</th>\n",
       "      <td>18.000000</td>\n",
       "      <td>1.000000</td>\n",
       "      <td>0.000000</td>\n",
       "      <td>0.000000</td>\n",
       "      <td>-3.400000</td>\n",
       "      <td>92.201000</td>\n",
       "      <td>-50.800000</td>\n",
       "      <td>0.634000</td>\n",
       "      <td>4963.600000</td>\n",
       "      <td>0.000000</td>\n",
       "      <td>0.000000</td>\n",
       "    </tr>\n",
       "    <tr>\n",
       "      <th>25%</th>\n",
       "      <td>32.000000</td>\n",
       "      <td>1.000000</td>\n",
       "      <td>999.000000</td>\n",
       "      <td>0.000000</td>\n",
       "      <td>-1.800000</td>\n",
       "      <td>93.075000</td>\n",
       "      <td>-42.700000</td>\n",
       "      <td>1.334000</td>\n",
       "      <td>5099.100000</td>\n",
       "      <td>999.000000</td>\n",
       "      <td>0.000000</td>\n",
       "    </tr>\n",
       "    <tr>\n",
       "      <th>50%</th>\n",
       "      <td>38.000000</td>\n",
       "      <td>2.000000</td>\n",
       "      <td>999.000000</td>\n",
       "      <td>0.000000</td>\n",
       "      <td>1.100000</td>\n",
       "      <td>93.444000</td>\n",
       "      <td>-41.800000</td>\n",
       "      <td>4.857000</td>\n",
       "      <td>5191.000000</td>\n",
       "      <td>999.000000</td>\n",
       "      <td>0.000000</td>\n",
       "    </tr>\n",
       "    <tr>\n",
       "      <th>75%</th>\n",
       "      <td>47.000000</td>\n",
       "      <td>3.000000</td>\n",
       "      <td>999.000000</td>\n",
       "      <td>0.000000</td>\n",
       "      <td>1.400000</td>\n",
       "      <td>93.994000</td>\n",
       "      <td>-36.400000</td>\n",
       "      <td>4.961000</td>\n",
       "      <td>5228.100000</td>\n",
       "      <td>999.000000</td>\n",
       "      <td>0.000000</td>\n",
       "    </tr>\n",
       "    <tr>\n",
       "      <th>max</th>\n",
       "      <td>94.000000</td>\n",
       "      <td>40.000000</td>\n",
       "      <td>999.000000</td>\n",
       "      <td>6.000000</td>\n",
       "      <td>1.400000</td>\n",
       "      <td>94.767000</td>\n",
       "      <td>-26.900000</td>\n",
       "      <td>5.045000</td>\n",
       "      <td>5228.100000</td>\n",
       "      <td>999.000000</td>\n",
       "      <td>18.000000</td>\n",
       "    </tr>\n",
       "  </tbody>\n",
       "</table>\n",
       "</div>"
      ],
      "text/plain": [
       "           custAge     campaign        pdays     previous  emp.var.rate  \\\n",
       "count  5610.000000  7414.000000  7414.000000  7414.000000   7414.000000   \n",
       "mean     40.009804     2.518344   960.024548     0.184111      0.052091   \n",
       "std      10.574616     2.695055   192.845029     0.516775      1.568399   \n",
       "min      18.000000     1.000000     0.000000     0.000000     -3.400000   \n",
       "25%      32.000000     1.000000   999.000000     0.000000     -1.800000   \n",
       "50%      38.000000     2.000000   999.000000     0.000000      1.100000   \n",
       "75%      47.000000     3.000000   999.000000     0.000000      1.400000   \n",
       "max      94.000000    40.000000   999.000000     6.000000      1.400000   \n",
       "\n",
       "       cons.price.idx  cons.conf.idx    euribor3m  nr.employed      pmonths  \\\n",
       "count     7414.000000    7414.000000  7414.000000  7414.000000  7414.000000   \n",
       "mean        93.570708     -40.561316     3.583141  5165.224251   959.797028   \n",
       "std          0.578345       4.649800     1.744865    73.108669   193.969418   \n",
       "min         92.201000     -50.800000     0.634000  4963.600000     0.000000   \n",
       "25%         93.075000     -42.700000     1.334000  5099.100000   999.000000   \n",
       "50%         93.444000     -41.800000     4.857000  5191.000000   999.000000   \n",
       "75%         93.994000     -36.400000     4.961000  5228.100000   999.000000   \n",
       "max         94.767000     -26.900000     5.045000  5228.100000   999.000000   \n",
       "\n",
       "         pastEmail  \n",
       "count  7414.000000  \n",
       "mean      0.361883  \n",
       "std       1.261668  \n",
       "min       0.000000  \n",
       "25%       0.000000  \n",
       "50%       0.000000  \n",
       "75%       0.000000  \n",
       "max      18.000000  "
      ]
     },
     "execution_count": 15,
     "metadata": {},
     "output_type": "execute_result"
    }
   ],
   "source": [
    "df_treino.describe()"
   ]
  },
  {
   "cell_type": "code",
   "execution_count": 16,
   "metadata": {},
   "outputs": [
    {
     "name": "stdout",
     "output_type": "stream",
     "text": [
      "<class 'pandas.core.frame.DataFrame'>\n",
      "RangeIndex: 7414 entries, 0 to 7413\n",
      "Data columns (total 22 columns):\n",
      " #   Column          Non-Null Count  Dtype  \n",
      "---  ------          --------------  -----  \n",
      " 0   custAge         5610 non-null   float64\n",
      " 1   profession      7414 non-null   object \n",
      " 2   marital         7414 non-null   object \n",
      " 3   schooling       5259 non-null   object \n",
      " 4   default         7414 non-null   object \n",
      " 5   housing         7414 non-null   object \n",
      " 6   loan            7414 non-null   object \n",
      " 7   contact         7414 non-null   object \n",
      " 8   month           7414 non-null   object \n",
      " 9   day_of_week     6703 non-null   object \n",
      " 10  campaign        7414 non-null   int64  \n",
      " 11  pdays           7414 non-null   int64  \n",
      " 12  previous        7414 non-null   int64  \n",
      " 13  poutcome        7414 non-null   object \n",
      " 14  emp.var.rate    7414 non-null   float64\n",
      " 15  cons.price.idx  7414 non-null   float64\n",
      " 16  cons.conf.idx   7414 non-null   float64\n",
      " 17  euribor3m       7414 non-null   float64\n",
      " 18  nr.employed     7414 non-null   float64\n",
      " 19  pmonths         7414 non-null   float64\n",
      " 20  pastEmail       7414 non-null   int64  \n",
      " 21  responded       7414 non-null   object \n",
      "dtypes: float64(7), int64(4), object(11)\n",
      "memory usage: 1.2+ MB\n"
     ]
    }
   ],
   "source": [
    "df_treino.info()"
   ]
  },
  {
   "cell_type": "code",
   "execution_count": 17,
   "metadata": {},
   "outputs": [
    {
     "data": {
      "text/plain": [
       "array(['campaign', 'pdays', 'previous', 'pastEmail'], dtype=object)"
      ]
     },
     "execution_count": 17,
     "metadata": {},
     "output_type": "execute_result"
    }
   ],
   "source": [
    "df_treino.select_dtypes(include=['int64']).columns.values"
   ]
  },
  {
   "cell_type": "code",
   "execution_count": 18,
   "metadata": {},
   "outputs": [],
   "source": [
    "#discret_columns = df_treino.select_dtypes(include=['int64']).columns.values.tolist()\n",
    "string_columns = df_treino.select_dtypes(include=['object']).columns.values.tolist()\n",
    "numerical_columns = df_treino.select_dtypes(include=['int64','float64']).columns.values.tolist()"
   ]
  },
  {
   "cell_type": "code",
   "execution_count": 19,
   "metadata": {},
   "outputs": [],
   "source": [
    "string_columns.remove('responded')"
   ]
  },
  {
   "cell_type": "code",
   "execution_count": null,
   "metadata": {},
   "outputs": [],
   "source": [
    "#sns.pairplot(df_treino)"
   ]
  },
  {
   "cell_type": "code",
   "execution_count": 22,
   "metadata": {},
   "outputs": [],
   "source": [
    "# plt.figure(figsize=(16, 6))\n",
    "# heatmap = sns.heatmap(df_treino[numerical_columns].corr(), vmin=-1, vmax=1, annot=True)\n",
    "# heatmap.set_title('Correlation Heatmap', fontdict={'fontsize':12}, pad=12);"
   ]
  },
  {
   "cell_type": "code",
   "execution_count": 23,
   "metadata": {},
   "outputs": [],
   "source": [
    "# for v in string_columns:\n",
    "#     fig = px.box(df_treino, x=v, y=\"custAge\")\n",
    "#     fig.show()"
   ]
  },
  {
   "cell_type": "markdown",
   "metadata": {},
   "source": [
    "A coluna <i> nr.employed </i> tem uma forte correlação entre outras variáveis, poderíamos retirar ela do modelo afin de reduzir a complexidade."
   ]
  },
  {
   "cell_type": "markdown",
   "metadata": {},
   "source": [
    "## Pré processamento"
   ]
  },
  {
   "cell_type": "code",
   "execution_count": 24,
   "metadata": {},
   "outputs": [],
   "source": [
    "X = df_treino.drop(['responded'], axis=1)\n",
    "y = df_treino['responded'].apply(lambda x: 1 if x == 'yes' else 0)"
   ]
  },
  {
   "cell_type": "code",
   "execution_count": 25,
   "metadata": {},
   "outputs": [
    {
     "data": {
      "text/plain": [
       "0    6574\n",
       "1     840\n",
       "Name: responded, dtype: int64"
      ]
     },
     "execution_count": 25,
     "metadata": {},
     "output_type": "execute_result"
    }
   ],
   "source": [
    "y.value_counts()"
   ]
  },
  {
   "cell_type": "code",
   "execution_count": 23,
   "metadata": {},
   "outputs": [],
   "source": [
    "# ros = RandomOverSampler(random_state=42)\n",
    "# X_resampled, y_resampled = ros.fit_resample(X, y)"
   ]
  },
  {
   "cell_type": "code",
   "execution_count": 26,
   "metadata": {},
   "outputs": [],
   "source": [
    "#y_resampled.value_counts()"
   ]
  },
  {
   "cell_type": "code",
   "execution_count": 27,
   "metadata": {},
   "outputs": [],
   "source": [
    "X_train, X_test, y_train, y_test = train_test_split(X, y, test_size=0.30, random_state=42)"
   ]
  },
  {
   "cell_type": "markdown",
   "metadata": {},
   "source": [
    "<h3> Split train test </h3>\n",
    "Escolhi fazer o split de treino e de teste nesse momento pensando sobre caso eu vá utilizar um pré processoamento dos dados eu não quero que ocorra vazamento das informações do test em treino. \n",
    "Não sei se é o melhor approach, mas segui dessa maneira."
   ]
  },
  {
   "cell_type": "code",
   "execution_count": 28,
   "metadata": {},
   "outputs": [
    {
     "name": "stdout",
     "output_type": "stream",
     "text": [
      "<class 'pandas.core.frame.DataFrame'>\n",
      "Int64Index: 5189 entries, 2835 to 7270\n",
      "Data columns (total 21 columns):\n",
      " #   Column          Non-Null Count  Dtype  \n",
      "---  ------          --------------  -----  \n",
      " 0   custAge         3929 non-null   float64\n",
      " 1   profession      5189 non-null   object \n",
      " 2   marital         5189 non-null   object \n",
      " 3   schooling       3665 non-null   object \n",
      " 4   default         5189 non-null   object \n",
      " 5   housing         5189 non-null   object \n",
      " 6   loan            5189 non-null   object \n",
      " 7   contact         5189 non-null   object \n",
      " 8   month           5189 non-null   object \n",
      " 9   day_of_week     4726 non-null   object \n",
      " 10  campaign        5189 non-null   int64  \n",
      " 11  pdays           5189 non-null   int64  \n",
      " 12  previous        5189 non-null   int64  \n",
      " 13  poutcome        5189 non-null   object \n",
      " 14  emp.var.rate    5189 non-null   float64\n",
      " 15  cons.price.idx  5189 non-null   float64\n",
      " 16  cons.conf.idx   5189 non-null   float64\n",
      " 17  euribor3m       5189 non-null   float64\n",
      " 18  nr.employed     5189 non-null   float64\n",
      " 19  pmonths         5189 non-null   float64\n",
      " 20  pastEmail       5189 non-null   int64  \n",
      "dtypes: float64(7), int64(4), object(10)\n",
      "memory usage: 891.9+ KB\n"
     ]
    }
   ],
   "source": [
    "X_train.info()"
   ]
  },
  {
   "cell_type": "code",
   "execution_count": 29,
   "metadata": {},
   "outputs": [
    {
     "data": {
      "text/plain": [
       "mon    1008\n",
       "thu     996\n",
       "tue     949\n",
       "wed     902\n",
       "fri     871\n",
       "Name: day_of_week, dtype: int64"
      ]
     },
     "execution_count": 29,
     "metadata": {},
     "output_type": "execute_result"
    }
   ],
   "source": [
    "X_train.day_of_week.value_counts()"
   ]
  },
  {
   "cell_type": "code",
   "execution_count": 30,
   "metadata": {},
   "outputs": [
    {
     "data": {
      "text/plain": [
       "university.degree      1095\n",
       "high.school             839\n",
       "basic.9y                535\n",
       "professional.course     474\n",
       "basic.4y                366\n",
       "basic.6y                187\n",
       "unknown                 168\n",
       "illiterate                1\n",
       "Name: schooling, dtype: int64"
      ]
     },
     "execution_count": 30,
     "metadata": {},
     "output_type": "execute_result"
    }
   ],
   "source": [
    "X_train.schooling.value_counts()"
   ]
  },
  {
   "cell_type": "markdown",
   "metadata": {},
   "source": [
    "<p> Como vou tratar os missing values: Para o valor de <i>custAge</i>, dada a correlação e distribuição vou utilizar a média de valores com o agrupamento relativo a profession e marital. <p>\n",
    "<p> No caso das variáveis categóricas vou utilizar duas formas, a primeira para o <i>schooling</i> que utilizarei a frequencia mais comum. <p>\n",
    "<p> No caso do <i>day_of_week</i>, pela distribuição homogênea entre os dias vou utilizar a variável categórica nula como uma nova variável.<p> "
   ]
  },
  {
   "cell_type": "code",
   "execution_count": 31,
   "metadata": {},
   "outputs": [
    {
     "name": "stderr",
     "output_type": "stream",
     "text": [
      "/Users/pedroalves/opt/anaconda3/lib/python3.9/site-packages/pandas/core/generic.py:6392: SettingWithCopyWarning: \n",
      "A value is trying to be set on a copy of a slice from a DataFrame\n",
      "\n",
      "See the caveats in the documentation: https://pandas.pydata.org/pandas-docs/stable/user_guide/indexing.html#returning-a-view-versus-a-copy\n",
      "  return self._update_inplace(result)\n"
     ]
    }
   ],
   "source": [
    "# Tratamento da variável de Idade\n",
    "X_train.custAge.fillna(X_train.groupby(['marital','profession'])['custAge'].transform('mean'), inplace=True)\n",
    "\n",
    "X_test.custAge.fillna(X_test.groupby(['marital','profession'])['custAge'].transform('mean'), inplace=True)"
   ]
  },
  {
   "cell_type": "code",
   "execution_count": 32,
   "metadata": {},
   "outputs": [],
   "source": [
    "# Tratamento da variável day_of_week\n",
    "X_train.day_of_week.fillna(\"desconhecido\", inplace=True)\n",
    "X_test.day_of_week.fillna(\"desconhecido\", inplace=True)"
   ]
  },
  {
   "cell_type": "code",
   "execution_count": 33,
   "metadata": {},
   "outputs": [],
   "source": [
    "# Tratamento da variável day_of_week\n",
    "X_train.schooling.fillna(\"university.degree\", inplace=True)\n",
    "X_test.schooling.fillna(\"university.degree\", inplace=True)"
   ]
  },
  {
   "cell_type": "code",
   "execution_count": 34,
   "metadata": {},
   "outputs": [
    {
     "data": {
      "text/plain": [
       "custAge           1\n",
       "profession        0\n",
       "marital           0\n",
       "schooling         0\n",
       "default           0\n",
       "housing           0\n",
       "loan              0\n",
       "contact           0\n",
       "month             0\n",
       "day_of_week       0\n",
       "campaign          0\n",
       "pdays             0\n",
       "previous          0\n",
       "poutcome          0\n",
       "emp.var.rate      0\n",
       "cons.price.idx    0\n",
       "cons.conf.idx     0\n",
       "euribor3m         0\n",
       "nr.employed       0\n",
       "pmonths           0\n",
       "pastEmail         0\n",
       "dtype: int64"
      ]
     },
     "execution_count": 34,
     "metadata": {},
     "output_type": "execute_result"
    }
   ],
   "source": [
    "X_train.isnull().sum()"
   ]
  },
  {
   "cell_type": "code",
   "execution_count": 35,
   "metadata": {},
   "outputs": [
    {
     "data": {
      "text/plain": [
       "custAge           1\n",
       "profession        0\n",
       "marital           0\n",
       "schooling         0\n",
       "default           0\n",
       "housing           0\n",
       "loan              0\n",
       "contact           0\n",
       "month             0\n",
       "day_of_week       0\n",
       "campaign          0\n",
       "pdays             0\n",
       "previous          0\n",
       "poutcome          0\n",
       "emp.var.rate      0\n",
       "cons.price.idx    0\n",
       "cons.conf.idx     0\n",
       "euribor3m         0\n",
       "nr.employed       0\n",
       "pmonths           0\n",
       "pastEmail         0\n",
       "dtype: int64"
      ]
     },
     "execution_count": 35,
     "metadata": {},
     "output_type": "execute_result"
    }
   ],
   "source": [
    "X_test.isnull().sum()"
   ]
  },
  {
   "cell_type": "code",
   "execution_count": 36,
   "metadata": {},
   "outputs": [
    {
     "name": "stdout",
     "output_type": "stream",
     "text": [
      " Colunas categóricas :['profession', 'marital', 'schooling', 'default', 'housing', 'loan', 'contact', 'month', 'day_of_week', 'poutcome']\n",
      " Colunas numéricas :['custAge', 'campaign', 'pdays', 'previous', 'emp.var.rate', 'cons.price.idx', 'cons.conf.idx', 'euribor3m', 'nr.employed', 'pmonths', 'pastEmail']\n"
     ]
    }
   ],
   "source": [
    "#print(f' Colunas discretas :{discret_columns}')\n",
    "print(f' Colunas categóricas :{string_columns}')\n",
    "print(f' Colunas numéricas :{numerical_columns}')"
   ]
  },
  {
   "cell_type": "markdown",
   "metadata": {},
   "source": [
    "## Teste de modelo (Pipeline)"
   ]
  },
  {
   "cell_type": "code",
   "execution_count": 37,
   "metadata": {},
   "outputs": [],
   "source": [
    "numeric_transformer = Pipeline(\n",
    "    steps=[(\"imputer\", SimpleImputer(strategy=\"median\")), (\"scaler\", StandardScaler())]\n",
    ")\n",
    "\n",
    "categorical_transformer = OneHotEncoder(handle_unknown=\"ignore\")\n",
    "\n",
    "preprocessor = ColumnTransformer(\n",
    "    transformers=[\n",
    "        (\"num\", numeric_transformer, numerical_columns),\n",
    "        (\"cat\", categorical_transformer, string_columns),\n",
    "    ]\n",
    ")"
   ]
  },
  {
   "cell_type": "code",
   "execution_count": 49,
   "metadata": {},
   "outputs": [],
   "source": [
    "pipeline_logistic = Pipeline(\n",
    "    steps=[(\"preprocessor\", preprocessor), (\"classifier\", LogisticRegression())]\n",
    ")"
   ]
  },
  {
   "cell_type": "code",
   "execution_count": 39,
   "metadata": {
    "scrolled": true
   },
   "outputs": [],
   "source": [
    "# clf.fit(X_train, y_train)\n",
    "# print(f'model score: {(clf.score(X_test, y_test)):.3f}')"
   ]
  },
  {
   "cell_type": "markdown",
   "metadata": {},
   "source": [
    "## Funções"
   ]
  },
  {
   "cell_type": "code",
   "execution_count": 40,
   "metadata": {},
   "outputs": [],
   "source": [
    "import itertools\n",
    "from sklearn.metrics import confusion_matrix\n",
    "\n",
    "def plot_confusion_matrix(cm):\n",
    "    \n",
    "    classes = ['Positive','Negative']\n",
    "\n",
    "    cm = cm.astype('float') / cm.sum(axis=1)[:, np.newaxis] * 100\n",
    "\n",
    "    plt.figure()\n",
    "    plt.imshow(cm, interpolation='nearest', cmap=plt.cm.Blues)\n",
    "    plt.title('Matriz de confusão normalizada')\n",
    "    plt.colorbar()\n",
    "    tick_marks = np.arange(len(classes))\n",
    "    plt.xticks(tick_marks, classes, rotation=45)\n",
    "    plt.yticks(tick_marks, classes)\n",
    "\n",
    "    thresh = cm.max() / 2.\n",
    "    for i, j in itertools.product(range(cm.shape[0]), range(cm.shape[1])):\n",
    "        plt.text(j, i, format(cm[i, j], '.2f') + '%',\n",
    "                 horizontalalignment=\"center\",\n",
    "                 color=\"white\" if cm[i, j] > thresh else \"black\")\n",
    "\n",
    "    plt.ylabel('Classe real')\n",
    "    plt.xlabel('Classe predita')\n",
    "    plt.tight_layout()\n",
    "    plt.show()\n",
    "\n",
    "def print_confusion_for(test_x, test_y, model):\n",
    "    pred_y = model.predict(test_x)\n",
    "    print(\"Acurácia do modelo em teste\", model.score(test_x, test_y))\n",
    "    cnf_matrix = confusion_matrix(test_y, pred_y)\n",
    "\n",
    "    plot_confusion_matrix(cnf_matrix)"
   ]
  },
  {
   "cell_type": "code",
   "execution_count": 41,
   "metadata": {},
   "outputs": [],
   "source": [
    "def evaluate_model(model, x_test, y_test):\n",
    "    from sklearn import metrics\n",
    "\n",
    "    # Predict Test Data \n",
    "    y_pred = model.predict(x_test)\n",
    "\n",
    "    # Calculate accuracy, precision, recall, f1-score, and kappa score\n",
    "    acc = metrics.accuracy_score(y_test, y_pred)\n",
    "    prec = metrics.precision_score(y_test, y_pred)\n",
    "    rec = metrics.recall_score(y_test, y_pred)\n",
    "    f1 = metrics.f1_score(y_test, y_pred)\n",
    "    kappa = metrics.cohen_kappa_score(y_test, y_pred)\n",
    "\n",
    "    # Calculate area under curve (AUC)\n",
    "    y_pred_proba = model.predict_proba(x_test)[::,1]\n",
    "    fpr, tpr, _ = metrics.roc_curve(y_test, y_pred_proba)\n",
    "    auc = metrics.roc_auc_score(y_test, y_pred_proba)\n",
    "\n",
    "    # Display confussion matrix\n",
    "    cm = metrics.confusion_matrix(y_test, y_pred)\n",
    "\n",
    "    return {'acc': acc, 'prec': prec, 'rec': rec, 'f1': f1, 'kappa': kappa, \n",
    "            'fpr': fpr, 'tpr': tpr, 'auc': auc, 'cm': cm}"
   ]
  },
  {
   "cell_type": "code",
   "execution_count": 42,
   "metadata": {},
   "outputs": [],
   "source": [
    "def plot_roc (X_treino,X_test,y_treino,y_test,model):\n",
    "    y_pred_proba1 = model.predict_proba(X_treino)[::,1]\n",
    "    fpr1, tpr1, _ = metrics.roc_curve(y_treino,  y_pred_proba1)\n",
    "    auc1 = metrics.roc_auc_score(y_treino, y_pred_proba1)\n",
    "    y_pred_proba2 = model.predict_proba(X_test)[::,1]\n",
    "    fpr2, tpr2, _ = metrics.roc_curve(y_test,  y_pred_proba2)\n",
    "    auc2 = metrics.roc_auc_score(y_test, y_pred_proba2)\n",
    "    \n",
    "    line1, = plt.plot(fpr1, tpr1, 'b', label=\"AUC=\"+str(auc1))\n",
    "    line2, = plt.plot(fpr2, tpr2, 'r', label=\"AUC=\"+str(auc2))\n",
    "    plt.legend(handler_map={line1: HandlerLine2D(numpoints=2)})\n",
    "    plt.ylabel('True Positive Rate')\n",
    "    plt.xlabel('False Positive Rate')\n",
    "    plt.show()"
   ]
  },
  {
   "cell_type": "markdown",
   "metadata": {},
   "source": [
    "## Modelos"
   ]
  },
  {
   "cell_type": "code",
   "execution_count": 45,
   "metadata": {},
   "outputs": [],
   "source": [
    "# X_train_transformed = preprocessor.fit_transform(X_train)\n",
    "# X_test_transformed = preprocessor.transform(X_test)\n",
    "#X_resampled_transformed = preprocessor.transform(X_resampled)"
   ]
  },
  {
   "cell_type": "code",
   "execution_count": 50,
   "metadata": {},
   "outputs": [
    {
     "data": {
      "text/plain": [
       "Pipeline(steps=[('preprocessor',\n",
       "                 ColumnTransformer(transformers=[('num',\n",
       "                                                  Pipeline(steps=[('imputer',\n",
       "                                                                   SimpleImputer(strategy='median')),\n",
       "                                                                  ('scaler',\n",
       "                                                                   StandardScaler())]),\n",
       "                                                  ['custAge', 'campaign',\n",
       "                                                   'pdays', 'previous',\n",
       "                                                   'emp.var.rate',\n",
       "                                                   'cons.price.idx',\n",
       "                                                   'cons.conf.idx', 'euribor3m',\n",
       "                                                   'nr.employed', 'pmonths',\n",
       "                                                   'pastEmail']),\n",
       "                                                 ('cat',\n",
       "                                                  OneHotEncoder(handle_unknown='ignore'),\n",
       "                                                  ['profession', 'marital',\n",
       "                                                   'schooling', 'default',\n",
       "                                                   'housing', 'loan', 'contact',\n",
       "                                                   'month', 'day_of_week',\n",
       "                                                   'poutcome'])])),\n",
       "                ('classifier', LogisticRegression())])"
      ]
     },
     "execution_count": 50,
     "metadata": {},
     "output_type": "execute_result"
    }
   ],
   "source": [
    "pipeline_logistic"
   ]
  },
  {
   "cell_type": "code",
   "execution_count": 57,
   "metadata": {
    "scrolled": false
   },
   "outputs": [
    {
     "name": "stdout",
     "output_type": "stream",
     "text": [
      "[CV 1/3] END classifier__C=0.001, classifier__fit_intercept=True, classifier__max_iter=100, classifier__penalty=l2, classifier__solver=liblinear;, score=0.910 total time=   0.1s\n",
      "[CV 2/3] END classifier__C=0.004641588833612777, classifier__fit_intercept=True, classifier__max_iter=100, classifier__penalty=l2, classifier__solver=liblinear;, score=0.905 total time=   0.1s\n",
      "[CV 3/3] END classifier__C=0.021544346900318832, classifier__fit_intercept=True, classifier__max_iter=100, classifier__penalty=l2, classifier__solver=liblinear;, score=0.898 total time=   0.1s\n",
      "[CV 2/3] END classifier__C=0.46415888336127775, classifier__fit_intercept=True, classifier__max_iter=100, classifier__penalty=l1, classifier__solver=liblinear;, score=0.905 total time=   0.2s\n",
      "[CV 1/3] END classifier__C=10.0, classifier__fit_intercept=True, classifier__max_iter=100, classifier__penalty=l2, classifier__solver=liblinear;, score=0.913 total time=   0.1s\n",
      "[CV 3/3] END classifier__C=10.0, classifier__fit_intercept=True, classifier__max_iter=100, classifier__penalty=l2, classifier__solver=liblinear;, score=0.897 total time=   0.1s\n",
      "[CV 2/3] END classifier__C=46.41588833612773, classifier__fit_intercept=True, classifier__max_iter=100, classifier__penalty=l1, classifier__solver=liblinear;, score=0.905 total time=   0.5s\n",
      "[CV 2/3] END classifier__C=1000.0, classifier__fit_intercept=True, classifier__max_iter=100, classifier__penalty=l1, classifier__solver=liblinear;, score=0.905 total time=   0.5s\n",
      "[CV 2/3] END classifier__C=0.001, classifier__fit_intercept=True, classifier__max_iter=100, classifier__penalty=l1, classifier__solver=liblinear;, score=0.890 total time=   0.0s\n",
      "[CV 1/3] END classifier__C=0.004641588833612777, classifier__fit_intercept=True, classifier__max_iter=100, classifier__penalty=l1, classifier__solver=liblinear;, score=0.898 total time=   0.1s\n",
      "[CV 1/3] END classifier__C=0.1, classifier__fit_intercept=True, classifier__max_iter=100, classifier__penalty=l1, classifier__solver=liblinear;, score=0.909 total time=   0.1s\n",
      "[CV 2/3] END classifier__C=0.1, classifier__fit_intercept=True, classifier__max_iter=100, classifier__penalty=l1, classifier__solver=liblinear;, score=0.905 total time=   0.1s\n",
      "[CV 2/3] END classifier__C=2.154434690031882, classifier__fit_intercept=True, classifier__max_iter=100, classifier__penalty=l2, classifier__solver=liblinear;, score=0.905 total time=   0.1s\n",
      "[CV 3/3] END classifier__C=2.154434690031882, classifier__fit_intercept=True, classifier__max_iter=100, classifier__penalty=l2, classifier__solver=liblinear;, score=0.897 total time=   0.1s\n",
      "[CV 3/3] END classifier__C=46.41588833612773, classifier__fit_intercept=True, classifier__max_iter=100, classifier__penalty=l1, classifier__solver=liblinear;, score=0.897 total time=   0.5s\n",
      "[CV 1/3] END classifier__C=46.41588833612773, classifier__fit_intercept=True, classifier__max_iter=100, classifier__penalty=l2, classifier__solver=liblinear;, score=0.912 total time=   0.1s\n",
      "[CV 3/3] END classifier__C=215.44346900318823, classifier__fit_intercept=True, classifier__max_iter=100, classifier__penalty=l2, classifier__solver=liblinear;, score=0.897 total time=   0.1s\n",
      "[CV 3/3] END classifier__C=1000.0, classifier__fit_intercept=True, classifier__max_iter=100, classifier__penalty=l1, classifier__solver=liblinear;, score=0.897 total time=   0.3s\n",
      "Fitting 3 folds for each of 40 candidates, totalling 120 fits\n",
      "[CV 2/3] END classifier__C=0.001, classifier__fit_intercept=True, classifier__max_iter=100, classifier__penalty=l2, classifier__solver=liblinear;, score=0.905 total time=   0.1s\n",
      "[CV 2/3] END classifier__C=0.021544346900318832, classifier__fit_intercept=True, classifier__max_iter=100, classifier__penalty=l1, classifier__solver=liblinear;, score=0.903 total time=   0.1s\n",
      "[CV 1/3] END classifier__C=0.1, classifier__fit_intercept=True, classifier__max_iter=100, classifier__penalty=l2, classifier__solver=liblinear;, score=0.913 total time=   0.1s\n",
      "[CV 1/3] END classifier__C=0.46415888336127775, classifier__fit_intercept=True, classifier__max_iter=100, classifier__penalty=l2, classifier__solver=liblinear;, score=0.914 total time=   0.1s\n",
      "[CV 2/3] END classifier__C=2.154434690031882, classifier__fit_intercept=True, classifier__max_iter=100, classifier__penalty=l1, classifier__solver=liblinear;, score=0.905 total time=   0.3s\n",
      "[CV 1/3] END classifier__C=46.41588833612773, classifier__fit_intercept=True, classifier__max_iter=100, classifier__penalty=l2, classifier__solver=liblinear;, score=0.912 total time=   0.1s\n",
      "[CV 3/3] END classifier__C=46.41588833612773, classifier__fit_intercept=True, classifier__max_iter=100, classifier__penalty=l2, classifier__solver=liblinear;, score=0.897 total time=   0.1s\n",
      "[CV 2/3] END classifier__C=215.44346900318823, classifier__fit_intercept=True, classifier__max_iter=100, classifier__penalty=l1, classifier__solver=liblinear;, score=0.905 total time=   0.5s\n",
      "[CV 2/3] END classifier__C=0.021544346900318832, classifier__fit_intercept=True, classifier__max_iter=100, classifier__penalty=l1, classifier__solver=liblinear;, score=0.903 total time=   0.1s\n",
      "[CV 3/3] END classifier__C=0.46415888336127775, classifier__fit_intercept=True, classifier__max_iter=100, classifier__penalty=l1, classifier__solver=liblinear;, score=0.900 total time=   0.1s\n",
      "[CV 1/3] END classifier__C=0.46415888336127775, classifier__fit_intercept=True, classifier__max_iter=100, classifier__penalty=l2, classifier__solver=liblinear;, score=0.914 total time=   0.1s\n",
      "[CV 1/3] END classifier__C=46.41588833612773, classifier__fit_intercept=True, classifier__max_iter=100, classifier__penalty=l1, classifier__solver=liblinear;, score=0.912 total time=   0.5s\n",
      "[CV 2/3] END classifier__C=46.41588833612773, classifier__fit_intercept=True, classifier__max_iter=100, classifier__penalty=l1, classifier__solver=liblinear;, score=0.905 total time=   0.6s\n"
     ]
    },
    {
     "name": "stderr",
     "output_type": "stream",
     "text": [
      "/Users/pedroalves/opt/anaconda3/lib/python3.9/site-packages/joblib/externals/loky/process_executor.py:702: UserWarning: A worker stopped while some jobs were given to the executor. This can be caused by a too short worker timeout or by a memory leak.\n",
      "  warnings.warn(\n"
     ]
    },
    {
     "name": "stdout",
     "output_type": "stream",
     "text": [
      "[CV 3/3] END classifier__C=0.001, classifier__fit_intercept=True, classifier__max_iter=100, classifier__penalty=l1, classifier__solver=liblinear;, score=0.890 total time=   0.1s\n",
      "[CV 3/3] END classifier__C=0.004641588833612777, classifier__fit_intercept=True, classifier__max_iter=100, classifier__penalty=l2, classifier__solver=liblinear;, score=0.898 total time=   0.1s\n",
      "[CV 2/3] END classifier__C=0.1, classifier__fit_intercept=True, classifier__max_iter=100, classifier__penalty=l1, classifier__solver=liblinear;, score=0.905 total time=   0.1s\n",
      "[CV 3/3] END classifier__C=0.46415888336127775, classifier__fit_intercept=True, classifier__max_iter=100, classifier__penalty=l1, classifier__solver=liblinear;, score=0.900 total time=   0.1s\n",
      "[CV 3/3] END classifier__C=2.154434690031882, classifier__fit_intercept=True, classifier__max_iter=100, classifier__penalty=l2, classifier__solver=liblinear;, score=0.897 total time=   0.1s\n",
      "[CV 2/3] END classifier__C=10.0, classifier__fit_intercept=True, classifier__max_iter=100, classifier__penalty=l2, classifier__solver=liblinear;, score=0.905 total time=   0.1s\n",
      "[CV 1/3] END classifier__C=46.41588833612773, classifier__fit_intercept=True, classifier__max_iter=100, classifier__penalty=l1, classifier__solver=liblinear;, score=0.912 total time=   0.6s\n",
      "[CV 1/3] END classifier__C=1000.0, classifier__fit_intercept=True, classifier__max_iter=100, classifier__penalty=l2, classifier__solver=liblinear;, score=0.912 total time=   0.1s\n",
      "[CV 1/3] END classifier__C=0.001, classifier__fit_intercept=True, classifier__max_iter=100, classifier__penalty=l1, classifier__solver=liblinear;, score=0.898 total time=   0.0s\n",
      "[CV 3/3] END classifier__C=0.001, classifier__fit_intercept=True, classifier__max_iter=100, classifier__penalty=l2, classifier__solver=liblinear;, score=0.898 total time=   0.1s\n",
      "[CV 1/3] END classifier__C=0.021544346900318832, classifier__fit_intercept=True, classifier__max_iter=100, classifier__penalty=l1, classifier__solver=liblinear;, score=0.908 total time=   0.1s\n",
      "[CV 2/3] END classifier__C=0.1, classifier__fit_intercept=True, classifier__max_iter=100, classifier__penalty=l2, classifier__solver=liblinear;, score=0.907 total time=   0.1s\n",
      "[CV 3/3] END classifier__C=0.1, classifier__fit_intercept=True, classifier__max_iter=100, classifier__penalty=l2, classifier__solver=liblinear;, score=0.899 total time=   0.1s\n",
      "[CV 3/3] END classifier__C=10.0, classifier__fit_intercept=True, classifier__max_iter=100, classifier__penalty=l1, classifier__solver=liblinear;, score=0.897 total time=   0.5s\n",
      "[CV 1/3] END classifier__C=10.0, classifier__fit_intercept=True, classifier__max_iter=100, classifier__penalty=l2, classifier__solver=liblinear;, score=0.913 total time=   0.1s\n",
      "[CV 1/3] END classifier__C=215.44346900318823, classifier__fit_intercept=True, classifier__max_iter=100, classifier__penalty=l2, classifier__solver=liblinear;, score=0.912 total time=   0.1s\n",
      "[CV 1/3] END classifier__C=1000.0, classifier__fit_intercept=True, classifier__max_iter=100, classifier__penalty=l1, classifier__solver=liblinear;, score=0.912 total time=   0.5s\n",
      "[CV 3/3] END classifier__C=0.001, classifier__fit_intercept=True, classifier__max_iter=100, classifier__penalty=l2, classifier__solver=liblinear;, score=0.898 total time=   0.1s\n",
      "[CV 1/3] END classifier__C=0.021544346900318832, classifier__fit_intercept=True, classifier__max_iter=100, classifier__penalty=l1, classifier__solver=liblinear;, score=0.908 total time=   0.1s\n",
      "[CV 3/3] END classifier__C=0.1, classifier__fit_intercept=True, classifier__max_iter=100, classifier__penalty=l1, classifier__solver=liblinear;, score=0.898 total time=   0.1s\n",
      "[CV 2/3] END classifier__C=0.46415888336127775, classifier__fit_intercept=True, classifier__max_iter=100, classifier__penalty=l2, classifier__solver=liblinear;, score=0.906 total time=   0.1s\n",
      "[CV 3/3] END classifier__C=2.154434690031882, classifier__fit_intercept=True, classifier__max_iter=100, classifier__penalty=l1, classifier__solver=liblinear;, score=0.899 total time=   0.3s\n",
      "[CV 2/3] END classifier__C=46.41588833612773, classifier__fit_intercept=True, classifier__max_iter=100, classifier__penalty=l2, classifier__solver=liblinear;, score=0.904 total time=   0.1s\n",
      "[CV 1/3] END classifier__C=215.44346900318823, classifier__fit_intercept=True, classifier__max_iter=100, classifier__penalty=l1, classifier__solver=liblinear;, score=0.912 total time=   0.7s\n",
      "[CV 3/3] END classifier__C=0.004641588833612777, classifier__fit_intercept=True, classifier__max_iter=100, classifier__penalty=l1, classifier__solver=liblinear;, score=0.890 total time=   0.1s\n",
      "[CV 1/3] END classifier__C=0.021544346900318832, classifier__fit_intercept=True, classifier__max_iter=100, classifier__penalty=l2, classifier__solver=liblinear;, score=0.911 total time=   0.1s\n",
      "[CV 1/3] END classifier__C=2.154434690031882, classifier__fit_intercept=True, classifier__max_iter=100, classifier__penalty=l1, classifier__solver=liblinear;, score=0.914 total time=   0.4s\n",
      "[CV 2/3] END classifier__C=2.154434690031882, classifier__fit_intercept=True, classifier__max_iter=100, classifier__penalty=l1, classifier__solver=liblinear;, score=0.905 total time=   0.3s\n",
      "[CV 2/3] END classifier__C=215.44346900318823, classifier__fit_intercept=True, classifier__max_iter=100, classifier__penalty=l2, classifier__solver=liblinear;, score=0.905 total time=   0.1s\n",
      "[CV 2/3] END classifier__C=1000.0, classifier__fit_intercept=True, classifier__max_iter=100, classifier__penalty=l1, classifier__solver=liblinear;, score=0.905 total time=   0.5s\n"
     ]
    },
    {
     "name": "stderr",
     "output_type": "stream",
     "text": [
      "/Users/pedroalves/opt/anaconda3/lib/python3.9/site-packages/sklearn/svm/_base.py:985: ConvergenceWarning: Liblinear failed to converge, increase the number of iterations.\n",
      "  warnings.warn(\"Liblinear failed to converge, increase \"\n",
      "/Users/pedroalves/opt/anaconda3/lib/python3.9/site-packages/sklearn/svm/_base.py:985: ConvergenceWarning: Liblinear failed to converge, increase the number of iterations.\n",
      "  warnings.warn(\"Liblinear failed to converge, increase \"\n"
     ]
    },
    {
     "data": {
      "text/plain": [
       "GridSearchCV(cv=KFold(n_splits=3, random_state=None, shuffle=True),\n",
       "             estimator=Pipeline(steps=[('preprocessor',\n",
       "                                        ColumnTransformer(transformers=[('num',\n",
       "                                                                         Pipeline(steps=[('imputer',\n",
       "                                                                                          SimpleImputer(strategy='median')),\n",
       "                                                                                         ('scaler',\n",
       "                                                                                          StandardScaler())]),\n",
       "                                                                         ['custAge',\n",
       "                                                                          'campaign',\n",
       "                                                                          'pdays',\n",
       "                                                                          'previous',\n",
       "                                                                          'emp.var.rate',\n",
       "                                                                          'cons.price.idx',\n",
       "                                                                          'cons.conf.idx',\n",
       "                                                                          'euribor3m',\n",
       "                                                                          'nr.employed...\n",
       "             param_grid={'classifier__C': array([1.00000000e-03, 4.64158883e-03, 2.15443469e-02, 1.00000000e-01,\n",
       "       4.64158883e-01, 2.15443469e+00, 1.00000000e+01, 4.64158883e+01,\n",
       "       2.15443469e+02, 1.00000000e+03]),\n",
       "                         'classifier__class_weight': ['balanced', None],\n",
       "                         'classifier__fit_intercept': [True],\n",
       "                         'classifier__max_iter': [100],\n",
       "                         'classifier__penalty': ['l1', 'l2'],\n",
       "                         'classifier__solver': ['liblinear']},\n",
       "             verbose=5)"
      ]
     },
     "execution_count": 57,
     "metadata": {},
     "output_type": "execute_result"
    }
   ],
   "source": [
    "# coloque o nome do step da pipeline antes do parametro de interesse, seguido de dois _ \n",
    "# vc poderia cross validar parametros dos scalers tambem, por exemplo\n",
    "parameters = {'classifier__max_iter': [100]\n",
    "              ,'classifier__solver' : ['liblinear']\n",
    "              ,'classifier__C' : np.logspace(-3, 3, 10)\n",
    "              ,'classifier__penalty' : ['l1', 'l2']\n",
    "              , 'classifier__fit_intercept': [True]\n",
    "              , 'classifier__class_weight':['balanced',None]\n",
    "             } \n",
    "\n",
    "SEED = 1988\n",
    "np.random.seed(SEED)\n",
    "cv = KFold(3, shuffle=True)\n",
    "\n",
    "\n",
    "grid_search_cv = GridSearchCV(pipeline_logistic, parameters, cv=cv, verbose=5, n_jobs=8)\n",
    "grid_search_cv.fit(X_train, y_train)\n"
   ]
  },
  {
   "cell_type": "code",
   "execution_count": 58,
   "metadata": {},
   "outputs": [
    {
     "name": "stdout",
     "output_type": "stream",
     "text": [
      "LinearRegression\n",
      "------------------------------\n",
      "Parametros ótimos = {'classifier__C': 0.46415888336127775, 'classifier__class_weight': None, 'classifier__fit_intercept': True, 'classifier__max_iter': 100, 'classifier__penalty': 'l1', 'classifier__solver': 'liblinear'}\n",
      "Score: 0.8876404494382022\n",
      "------------------------------\n",
      "Acurácia do modelo em teste 0.8876404494382022\n"
     ]
    },
    {
     "data": {
      "image/png": "[encoded data removed]",
      "text/plain": [
       "<Figure size 432x288 with 2 Axes>"
      ]
     },
     "metadata": {
      "needs_background": "light"
     },
     "output_type": "display_data"
    },
    {
     "data": {
      "image/png": "[encoded data removed]",
      "text/plain": [
       "<Figure size 432x288 with 1 Axes>"
      ]
     },
     "metadata": {
      "needs_background": "light"
     },
     "output_type": "display_data"
    },
    {
     "name": "stdout",
     "output_type": "stream",
     "text": [
      "Métricas do modelo\n",
      "Accuracy: 0.8876404494382022\n",
      "Precision: 0.6941176470588235\n",
      "Recall: 0.20848056537102475\n",
      "F1 Score: 0.32065217391304346\n",
      "Cohens Kappa Score: 0.27824417080797725\n",
      "Area Under Curve: 0.803682226257583\n"
     ]
    }
   ],
   "source": [
    "grid_search_cv.best_params_\n",
    "grid_search_cv.predict(X_test)\n",
    "score = grid_search_cv.score(X_test, y_test)\n",
    "#results = cross_validate(model, X_train, y_train, cv=cv, return_train_score = False)\n",
    "y_pred = grid_search_cv.predict(X_test)\n",
    "best_grid = grid_search_cv.best_estimator_\n",
    "best_grid_eval = evaluate_model(best_grid, X_test, y_test)\n",
    "\n",
    "# Print result\n",
    "\n",
    "print(\"LinearRegression\")\n",
    "print(\"------------------------------\")\n",
    "print(f'Parametros ótimos = {grid_search_cv.best_params_}')\n",
    "print(f'Score: {score}')\n",
    "print(\"------------------------------\")\n",
    "print_confusion_for(X_test, y_test, best_grid)\n",
    "plot_roc(X_train,X_test,y_train,y_test,best_grid)\n",
    "\n",
    "print(\"Métricas do modelo\")\n",
    "print(f'Accuracy: {best_grid_eval[\"acc\"]}')\n",
    "print(f'Precision: {best_grid_eval[\"prec\"]}')\n",
    "print(f'Recall: {best_grid_eval[\"rec\"]}')\n",
    "print(f'F1 Score: {best_grid_eval[\"f1\"]}')\n",
    "print(f'Cohens Kappa Score: {best_grid_eval[\"kappa\"]}')\n",
    "print(f'Area Under Curve: {best_grid_eval[\"auc\"]}')"
   ]
  },
  {
   "cell_type": "code",
   "execution_count": 56,
   "metadata": {},
   "outputs": [
    {
     "name": "stdout",
     "output_type": "stream",
     "text": [
      "Fitting 10 folds for each of 96 candidates, totalling 960 fits\n",
      "RandomForestClassifier\n",
      "------------------------------\n",
      "Parametros ótimos = {'bootstrap': False, 'max_depth': 50, 'max_features': 4, 'min_samples_leaf': 3, 'min_samples_split': 10, 'n_estimators': 1000}\n",
      "Score: 0.9196451204055767\n",
      "------------------------------\n",
      "Acurácia do modelo em teste 0.9196451204055767\n"
     ]
    },
    {
     "data": {
      "image/png": "[encoded data removed]",
      "text/plain": [
       "<Figure size 432x288 with 2 Axes>"
      ]
     },
     "metadata": {
      "needs_background": "light"
     },
     "output_type": "display_data"
    },
    {
     "data": {
      "image/png": "[encoded data removed]",
      "text/plain": [
       "<Figure size 432x288 with 1 Axes>"
      ]
     },
     "metadata": {
      "needs_background": "light"
     },
     "output_type": "display_data"
    },
    {
     "name": "stdout",
     "output_type": "stream",
     "text": [
      "Métricas do modelo\n",
      "Accuracy: 0.9196451204055767\n",
      "Precision: 0.9082751744765702\n",
      "Recall: 0.9319693094629156\n",
      "F1 Score: 0.9199697046200455\n",
      "Cohens Kappa Score: 0.839314452531485\n",
      "Area Under Curve: 0.9708144302073024\n"
     ]
    }
   ],
   "source": [
    "parameters = {'bootstrap': [True, False],\n",
    "     'max_depth': [50, 100],\n",
    "    'max_features': [2, 4],\n",
    "    'min_samples_leaf': [3, 4],\n",
    "    'min_samples_split': [10, 12],\n",
    "    'n_estimators': [300, 500,1000]} \n",
    "model = RandomForestClassifier()\n",
    "\n",
    "SEED = 1988\n",
    "np.random.seed(SEED)\n",
    "cv = KFold(10, shuffle=True)\n",
    "\n",
    "\n",
    "clf = GridSearchCV(model, parameters, cv=cv, verbose=5, n_jobs=8)\n",
    "clf.fit(X_train_transformed, y_train)\n",
    "clf.best_params_\n",
    "clf.predict(X_test_transformed)\n",
    "score = clf.score(X_test_transformed, y_test)\n",
    "results = cross_validate(model, X_resampled_transformed, y_resampled, cv=cv, return_train_score = False)\n",
    "y_pred = clf.predict(X_test_transformed)\n",
    "#media = results['test_score'].mean()\n",
    "#desvio = results['test_score'].std()\n",
    "best_grid = clf.best_estimator_\n",
    "best_grid_eval = evaluate_model(best_grid, X_test_transformed, y_test)\n",
    "\n",
    "# Print result\n",
    "\n",
    "print(\"RandomForestClassifier\")\n",
    "print(\"------------------------------\")\n",
    "print(f'Parametros ótimos = {clf.best_params_}')\n",
    "print(f'Score: {score}')\n",
    "print(\"------------------------------\")\n",
    "print_confusion_for(X_test_transformed, y_test, clf)\n",
    "plot_roc(X_train_transformed,X_test_transformed,y_train,y_test,clf)\n",
    "\n",
    "print(\"Métricas do modelo\")\n",
    "print(f'Accuracy: {best_grid_eval[\"acc\"]}')\n",
    "print(f'Precision: {best_grid_eval[\"prec\"]}')\n",
    "print(f'Recall: {best_grid_eval[\"rec\"]}')\n",
    "print(f'F1 Score: {best_grid_eval[\"f1\"]}')\n",
    "print(f'Cohens Kappa Score: {best_grid_eval[\"kappa\"]}')\n",
    "print(f'Area Under Curve: {best_grid_eval[\"auc\"]}')"
   ]
  },
  {
   "cell_type": "code",
   "execution_count": 57,
   "metadata": {},
   "outputs": [
    {
     "name": "stdout",
     "output_type": "stream",
     "text": [
      "Fitting 10 folds for each of 240 candidates, totalling 2400 fits\n"
     ]
    },
    {
     "ename": "KeyboardInterrupt",
     "evalue": "",
     "output_type": "error",
     "traceback": [
      "\u001b[1;31m---------------------------------------------------------------------------\u001b[0m",
      "\u001b[1;31mKeyboardInterrupt\u001b[0m                         Traceback (most recent call last)",
      "\u001b[1;32m<ipython-input-57-242884d2b3e3>\u001b[0m in \u001b[0;36m<module>\u001b[1;34m\u001b[0m\n\u001b[0;32m     13\u001b[0m \u001b[1;33m\u001b[0m\u001b[0m\n\u001b[0;32m     14\u001b[0m \u001b[0mclf\u001b[0m \u001b[1;33m=\u001b[0m \u001b[0mGridSearchCV\u001b[0m\u001b[1;33m(\u001b[0m\u001b[0mmodel\u001b[0m\u001b[1;33m,\u001b[0m \u001b[0mparameters\u001b[0m\u001b[1;33m,\u001b[0m \u001b[0mcv\u001b[0m\u001b[1;33m=\u001b[0m\u001b[0mcv\u001b[0m\u001b[1;33m,\u001b[0m \u001b[0mverbose\u001b[0m\u001b[1;33m=\u001b[0m\u001b[1;36m5\u001b[0m\u001b[1;33m,\u001b[0m \u001b[0mn_jobs\u001b[0m\u001b[1;33m=\u001b[0m\u001b[1;36m8\u001b[0m\u001b[1;33m)\u001b[0m\u001b[1;33m\u001b[0m\u001b[1;33m\u001b[0m\u001b[0m\n\u001b[1;32m---> 15\u001b[1;33m \u001b[0mclf\u001b[0m\u001b[1;33m.\u001b[0m\u001b[0mfit\u001b[0m\u001b[1;33m(\u001b[0m\u001b[0mX_train_transformed\u001b[0m\u001b[1;33m,\u001b[0m \u001b[0my_train\u001b[0m\u001b[1;33m)\u001b[0m\u001b[1;33m\u001b[0m\u001b[1;33m\u001b[0m\u001b[0m\n\u001b[0m\u001b[0;32m     16\u001b[0m \u001b[0mclf\u001b[0m\u001b[1;33m.\u001b[0m\u001b[0mbest_params_\u001b[0m\u001b[1;33m\u001b[0m\u001b[1;33m\u001b[0m\u001b[0m\n\u001b[0;32m     17\u001b[0m \u001b[0mclf\u001b[0m\u001b[1;33m.\u001b[0m\u001b[0mpredict\u001b[0m\u001b[1;33m(\u001b[0m\u001b[0mX_test_transformed\u001b[0m\u001b[1;33m)\u001b[0m\u001b[1;33m\u001b[0m\u001b[1;33m\u001b[0m\u001b[0m\n",
      "\u001b[1;32mC:\\ProgramData\\Anaconda3\\lib\\site-packages\\sklearn\\model_selection\\_search.py\u001b[0m in \u001b[0;36mfit\u001b[1;34m(self, X, y, groups, **fit_params)\u001b[0m\n\u001b[0;32m    873\u001b[0m                 \u001b[1;32mreturn\u001b[0m \u001b[0mresults\u001b[0m\u001b[1;33m\u001b[0m\u001b[1;33m\u001b[0m\u001b[0m\n\u001b[0;32m    874\u001b[0m \u001b[1;33m\u001b[0m\u001b[0m\n\u001b[1;32m--> 875\u001b[1;33m             \u001b[0mself\u001b[0m\u001b[1;33m.\u001b[0m\u001b[0m_run_search\u001b[0m\u001b[1;33m(\u001b[0m\u001b[0mevaluate_candidates\u001b[0m\u001b[1;33m)\u001b[0m\u001b[1;33m\u001b[0m\u001b[1;33m\u001b[0m\u001b[0m\n\u001b[0m\u001b[0;32m    876\u001b[0m \u001b[1;33m\u001b[0m\u001b[0m\n\u001b[0;32m    877\u001b[0m             \u001b[1;31m# multimetric is determined here because in the case of a callable\u001b[0m\u001b[1;33m\u001b[0m\u001b[1;33m\u001b[0m\u001b[1;33m\u001b[0m\u001b[0m\n",
      "\u001b[1;32mC:\\ProgramData\\Anaconda3\\lib\\site-packages\\sklearn\\model_selection\\_search.py\u001b[0m in \u001b[0;36m_run_search\u001b[1;34m(self, evaluate_candidates)\u001b[0m\n\u001b[0;32m   1377\u001b[0m     \u001b[1;32mdef\u001b[0m \u001b[0m_run_search\u001b[0m\u001b[1;33m(\u001b[0m\u001b[0mself\u001b[0m\u001b[1;33m,\u001b[0m \u001b[0mevaluate_candidates\u001b[0m\u001b[1;33m)\u001b[0m\u001b[1;33m:\u001b[0m\u001b[1;33m\u001b[0m\u001b[1;33m\u001b[0m\u001b[0m\n\u001b[0;32m   1378\u001b[0m         \u001b[1;34m\"\"\"Search all candidates in param_grid\"\"\"\u001b[0m\u001b[1;33m\u001b[0m\u001b[1;33m\u001b[0m\u001b[0m\n\u001b[1;32m-> 1379\u001b[1;33m         \u001b[0mevaluate_candidates\u001b[0m\u001b[1;33m(\u001b[0m\u001b[0mParameterGrid\u001b[0m\u001b[1;33m(\u001b[0m\u001b[0mself\u001b[0m\u001b[1;33m.\u001b[0m\u001b[0mparam_grid\u001b[0m\u001b[1;33m)\u001b[0m\u001b[1;33m)\u001b[0m\u001b[1;33m\u001b[0m\u001b[1;33m\u001b[0m\u001b[0m\n\u001b[0m\u001b[0;32m   1380\u001b[0m \u001b[1;33m\u001b[0m\u001b[0m\n\u001b[0;32m   1381\u001b[0m \u001b[1;33m\u001b[0m\u001b[0m\n",
      "\u001b[1;32mC:\\ProgramData\\Anaconda3\\lib\\site-packages\\sklearn\\model_selection\\_search.py\u001b[0m in \u001b[0;36mevaluate_candidates\u001b[1;34m(candidate_params, cv, more_results)\u001b[0m\n\u001b[0;32m    820\u001b[0m                     )\n\u001b[0;32m    821\u001b[0m \u001b[1;33m\u001b[0m\u001b[0m\n\u001b[1;32m--> 822\u001b[1;33m                 out = parallel(\n\u001b[0m\u001b[0;32m    823\u001b[0m                     delayed(_fit_and_score)(\n\u001b[0;32m    824\u001b[0m                         \u001b[0mclone\u001b[0m\u001b[1;33m(\u001b[0m\u001b[0mbase_estimator\u001b[0m\u001b[1;33m)\u001b[0m\u001b[1;33m,\u001b[0m\u001b[1;33m\u001b[0m\u001b[1;33m\u001b[0m\u001b[0m\n",
      "\u001b[1;32mC:\\ProgramData\\Anaconda3\\lib\\site-packages\\joblib\\parallel.py\u001b[0m in \u001b[0;36m__call__\u001b[1;34m(self, iterable)\u001b[0m\n\u001b[0;32m   1054\u001b[0m \u001b[1;33m\u001b[0m\u001b[0m\n\u001b[0;32m   1055\u001b[0m             \u001b[1;32mwith\u001b[0m \u001b[0mself\u001b[0m\u001b[1;33m.\u001b[0m\u001b[0m_backend\u001b[0m\u001b[1;33m.\u001b[0m\u001b[0mretrieval_context\u001b[0m\u001b[1;33m(\u001b[0m\u001b[1;33m)\u001b[0m\u001b[1;33m:\u001b[0m\u001b[1;33m\u001b[0m\u001b[1;33m\u001b[0m\u001b[0m\n\u001b[1;32m-> 1056\u001b[1;33m                 \u001b[0mself\u001b[0m\u001b[1;33m.\u001b[0m\u001b[0mretrieve\u001b[0m\u001b[1;33m(\u001b[0m\u001b[1;33m)\u001b[0m\u001b[1;33m\u001b[0m\u001b[1;33m\u001b[0m\u001b[0m\n\u001b[0m\u001b[0;32m   1057\u001b[0m             \u001b[1;31m# Make sure that we get a last message telling us we are done\u001b[0m\u001b[1;33m\u001b[0m\u001b[1;33m\u001b[0m\u001b[1;33m\u001b[0m\u001b[0m\n\u001b[0;32m   1058\u001b[0m             \u001b[0melapsed_time\u001b[0m \u001b[1;33m=\u001b[0m \u001b[0mtime\u001b[0m\u001b[1;33m.\u001b[0m\u001b[0mtime\u001b[0m\u001b[1;33m(\u001b[0m\u001b[1;33m)\u001b[0m \u001b[1;33m-\u001b[0m \u001b[0mself\u001b[0m\u001b[1;33m.\u001b[0m\u001b[0m_start_time\u001b[0m\u001b[1;33m\u001b[0m\u001b[1;33m\u001b[0m\u001b[0m\n",
      "\u001b[1;32mC:\\ProgramData\\Anaconda3\\lib\\site-packages\\joblib\\parallel.py\u001b[0m in \u001b[0;36mretrieve\u001b[1;34m(self)\u001b[0m\n\u001b[0;32m    933\u001b[0m             \u001b[1;32mtry\u001b[0m\u001b[1;33m:\u001b[0m\u001b[1;33m\u001b[0m\u001b[1;33m\u001b[0m\u001b[0m\n\u001b[0;32m    934\u001b[0m                 \u001b[1;32mif\u001b[0m \u001b[0mgetattr\u001b[0m\u001b[1;33m(\u001b[0m\u001b[0mself\u001b[0m\u001b[1;33m.\u001b[0m\u001b[0m_backend\u001b[0m\u001b[1;33m,\u001b[0m \u001b[1;34m'supports_timeout'\u001b[0m\u001b[1;33m,\u001b[0m \u001b[1;32mFalse\u001b[0m\u001b[1;33m)\u001b[0m\u001b[1;33m:\u001b[0m\u001b[1;33m\u001b[0m\u001b[1;33m\u001b[0m\u001b[0m\n\u001b[1;32m--> 935\u001b[1;33m                     \u001b[0mself\u001b[0m\u001b[1;33m.\u001b[0m\u001b[0m_output\u001b[0m\u001b[1;33m.\u001b[0m\u001b[0mextend\u001b[0m\u001b[1;33m(\u001b[0m\u001b[0mjob\u001b[0m\u001b[1;33m.\u001b[0m\u001b[0mget\u001b[0m\u001b[1;33m(\u001b[0m\u001b[0mtimeout\u001b[0m\u001b[1;33m=\u001b[0m\u001b[0mself\u001b[0m\u001b[1;33m.\u001b[0m\u001b[0mtimeout\u001b[0m\u001b[1;33m)\u001b[0m\u001b[1;33m)\u001b[0m\u001b[1;33m\u001b[0m\u001b[1;33m\u001b[0m\u001b[0m\n\u001b[0m\u001b[0;32m    936\u001b[0m                 \u001b[1;32melse\u001b[0m\u001b[1;33m:\u001b[0m\u001b[1;33m\u001b[0m\u001b[1;33m\u001b[0m\u001b[0m\n\u001b[0;32m    937\u001b[0m                     \u001b[0mself\u001b[0m\u001b[1;33m.\u001b[0m\u001b[0m_output\u001b[0m\u001b[1;33m.\u001b[0m\u001b[0mextend\u001b[0m\u001b[1;33m(\u001b[0m\u001b[0mjob\u001b[0m\u001b[1;33m.\u001b[0m\u001b[0mget\u001b[0m\u001b[1;33m(\u001b[0m\u001b[1;33m)\u001b[0m\u001b[1;33m)\u001b[0m\u001b[1;33m\u001b[0m\u001b[1;33m\u001b[0m\u001b[0m\n",
      "\u001b[1;32mC:\\ProgramData\\Anaconda3\\lib\\site-packages\\joblib\\_parallel_backends.py\u001b[0m in \u001b[0;36mwrap_future_result\u001b[1;34m(future, timeout)\u001b[0m\n\u001b[0;32m    540\u001b[0m         AsyncResults.get from multiprocessing.\"\"\"\n\u001b[0;32m    541\u001b[0m         \u001b[1;32mtry\u001b[0m\u001b[1;33m:\u001b[0m\u001b[1;33m\u001b[0m\u001b[1;33m\u001b[0m\u001b[0m\n\u001b[1;32m--> 542\u001b[1;33m             \u001b[1;32mreturn\u001b[0m \u001b[0mfuture\u001b[0m\u001b[1;33m.\u001b[0m\u001b[0mresult\u001b[0m\u001b[1;33m(\u001b[0m\u001b[0mtimeout\u001b[0m\u001b[1;33m=\u001b[0m\u001b[0mtimeout\u001b[0m\u001b[1;33m)\u001b[0m\u001b[1;33m\u001b[0m\u001b[1;33m\u001b[0m\u001b[0m\n\u001b[0m\u001b[0;32m    543\u001b[0m         \u001b[1;32mexcept\u001b[0m \u001b[0mCfTimeoutError\u001b[0m \u001b[1;32mas\u001b[0m \u001b[0me\u001b[0m\u001b[1;33m:\u001b[0m\u001b[1;33m\u001b[0m\u001b[1;33m\u001b[0m\u001b[0m\n\u001b[0;32m    544\u001b[0m             \u001b[1;32mraise\u001b[0m \u001b[0mTimeoutError\u001b[0m \u001b[1;32mfrom\u001b[0m \u001b[0me\u001b[0m\u001b[1;33m\u001b[0m\u001b[1;33m\u001b[0m\u001b[0m\n",
      "\u001b[1;32mC:\\ProgramData\\Anaconda3\\lib\\concurrent\\futures\\_base.py\u001b[0m in \u001b[0;36mresult\u001b[1;34m(self, timeout)\u001b[0m\n\u001b[0;32m    432\u001b[0m                 \u001b[1;32mreturn\u001b[0m \u001b[0mself\u001b[0m\u001b[1;33m.\u001b[0m\u001b[0m__get_result\u001b[0m\u001b[1;33m(\u001b[0m\u001b[1;33m)\u001b[0m\u001b[1;33m\u001b[0m\u001b[1;33m\u001b[0m\u001b[0m\n\u001b[0;32m    433\u001b[0m \u001b[1;33m\u001b[0m\u001b[0m\n\u001b[1;32m--> 434\u001b[1;33m             \u001b[0mself\u001b[0m\u001b[1;33m.\u001b[0m\u001b[0m_condition\u001b[0m\u001b[1;33m.\u001b[0m\u001b[0mwait\u001b[0m\u001b[1;33m(\u001b[0m\u001b[0mtimeout\u001b[0m\u001b[1;33m)\u001b[0m\u001b[1;33m\u001b[0m\u001b[1;33m\u001b[0m\u001b[0m\n\u001b[0m\u001b[0;32m    435\u001b[0m \u001b[1;33m\u001b[0m\u001b[0m\n\u001b[0;32m    436\u001b[0m             \u001b[1;32mif\u001b[0m \u001b[0mself\u001b[0m\u001b[1;33m.\u001b[0m\u001b[0m_state\u001b[0m \u001b[1;32min\u001b[0m \u001b[1;33m[\u001b[0m\u001b[0mCANCELLED\u001b[0m\u001b[1;33m,\u001b[0m \u001b[0mCANCELLED_AND_NOTIFIED\u001b[0m\u001b[1;33m]\u001b[0m\u001b[1;33m:\u001b[0m\u001b[1;33m\u001b[0m\u001b[1;33m\u001b[0m\u001b[0m\n",
      "\u001b[1;32mC:\\ProgramData\\Anaconda3\\lib\\threading.py\u001b[0m in \u001b[0;36mwait\u001b[1;34m(self, timeout)\u001b[0m\n\u001b[0;32m    300\u001b[0m         \u001b[1;32mtry\u001b[0m\u001b[1;33m:\u001b[0m    \u001b[1;31m# restore state no matter what (e.g., KeyboardInterrupt)\u001b[0m\u001b[1;33m\u001b[0m\u001b[1;33m\u001b[0m\u001b[0m\n\u001b[0;32m    301\u001b[0m             \u001b[1;32mif\u001b[0m \u001b[0mtimeout\u001b[0m \u001b[1;32mis\u001b[0m \u001b[1;32mNone\u001b[0m\u001b[1;33m:\u001b[0m\u001b[1;33m\u001b[0m\u001b[1;33m\u001b[0m\u001b[0m\n\u001b[1;32m--> 302\u001b[1;33m                 \u001b[0mwaiter\u001b[0m\u001b[1;33m.\u001b[0m\u001b[0macquire\u001b[0m\u001b[1;33m(\u001b[0m\u001b[1;33m)\u001b[0m\u001b[1;33m\u001b[0m\u001b[1;33m\u001b[0m\u001b[0m\n\u001b[0m\u001b[0;32m    303\u001b[0m                 \u001b[0mgotit\u001b[0m \u001b[1;33m=\u001b[0m \u001b[1;32mTrue\u001b[0m\u001b[1;33m\u001b[0m\u001b[1;33m\u001b[0m\u001b[0m\n\u001b[0;32m    304\u001b[0m             \u001b[1;32melse\u001b[0m\u001b[1;33m:\u001b[0m\u001b[1;33m\u001b[0m\u001b[1;33m\u001b[0m\u001b[0m\n",
      "\u001b[1;31mKeyboardInterrupt\u001b[0m: "
     ]
    }
   ],
   "source": [
    "parameters = {\"learning_rate\" :[1, 0.5, 0.1, 0.05, 0.01],\n",
    "     'max_depth': [50, 100],\n",
    "    'max_features': [2, 4],\n",
    "    'min_samples_leaf': [3, 4],\n",
    "    'min_samples_split': [10, 12],\n",
    "    'n_estimators': [300, 500,1000]} \n",
    "model = GradientBoostingClassifier()\n",
    "\n",
    "SEED = 1988\n",
    "np.random.seed(SEED)\n",
    "cv = KFold(10, shuffle=True)\n",
    "\n",
    "\n",
    "clf = GridSearchCV(model, parameters, cv=cv, verbose=5, n_jobs=8)\n",
    "clf.fit(X_train_transformed, y_train)\n",
    "clf.best_params_\n",
    "clf.predict(X_test_transformed)\n",
    "score = clf.score(X_test_transformed, y_test)\n",
    "results = cross_validate(model, X_resampled_transformed, y_resampled, cv=cv, return_train_score = False)\n",
    "y_pred = clf.predict(X_test_transformed)\n",
    "#media = results['test_score'].mean()\n",
    "#desvio = results['test_score'].std()\n",
    "best_grid = clf.best_estimator_\n",
    "best_grid_eval = evaluate_model(best_grid, X_test_transformed, y_test)\n",
    "\n",
    "# Print result\n",
    "\n",
    "print(\"GradientBoostingClassifier\")\n",
    "print(\"------------------------------\")\n",
    "print(f'Parametros ótimos = {clf.best_params_}')\n",
    "print(f'Score: {score}')\n",
    "print(\"------------------------------\")\n",
    "print_confusion_for(X_test_transformed, y_test, clf)\n",
    "plot_roc(X_train_transformed,X_test_transformed,y_train,y_test,clf)\n",
    "\n",
    "print(\"Métricas do modelo\")\n",
    "print(f'Accuracy: {best_grid_eval[\"acc\"]}')\n",
    "print(f'Precision: {best_grid_eval[\"prec\"]}')\n",
    "print(f'Recall: {best_grid_eval[\"rec\"]}')\n",
    "print(f'F1 Score: {best_grid_eval[\"f1\"]}')\n",
    "print(f'Cohens Kappa Score: {best_grid_eval[\"kappa\"]}')\n",
    "print(f'Area Under Curve: {best_grid_eval[\"auc\"]}')"
   ]
  },
  {
   "cell_type": "code",
   "execution_count": null,
   "metadata": {},
   "outputs": [],
   "source": []
  }
 ],
 "metadata": {
  "kernelspec": {
   "display_name": "Python 3",
   "language": "python",
   "name": "python3"
  },
  "language_info": {
   "codemirror_mode": {
    "name": "ipython",
    "version": 3
   },
   "file_extension": ".py",
   "mimetype": "text/x-python",
   "name": "python",
   "nbconvert_exporter": "python",
   "pygments_lexer": "ipython3",
   "version": "3.7.6"
  }
 },
 "nbformat": 4,
 "nbformat_minor": 5
}
